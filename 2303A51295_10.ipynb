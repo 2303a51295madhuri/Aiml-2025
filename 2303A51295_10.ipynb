{
  "nbformat": 4,
  "nbformat_minor": 0,
  "metadata": {
    "colab": {
      "provenance": [],
      "authorship_tag": "ABX9TyNAc/EAKJMgiMzUPnYauoGU",
      "include_colab_link": true
    },
    "kernelspec": {
      "name": "python3",
      "display_name": "Python 3"
    },
    "language_info": {
      "name": "python"
    }
  },
  "cells": [
    {
      "cell_type": "markdown",
      "metadata": {
        "id": "view-in-github",
        "colab_type": "text"
      },
      "source": [
        "<a href=\"https://colab.research.google.com/github/2303a51295madhuri/Aiml-2025/blob/main/2303A51295_10.ipynb\" target=\"_parent\"><img src=\"https://colab.research.google.com/assets/colab-badge.svg\" alt=\"Open In Colab\"/></a>"
      ]
    },
    {
      "cell_type": "markdown",
      "source": [],
      "metadata": {
        "id": "MaYWLrgW3clc"
      }
    },
    {
      "cell_type": "markdown",
      "source": [
        "Assessing Mathematical Learning in Higher Education\n",
        "Q1:Identify the math topic which is most hard to learn?\n",
        "Q2:List the top5 math sub-topics for the students?\n",
        "Q3:Identify the questions level most sloved by the students?\n",
        "Q4:Name the country with most solved math problems?\n",
        "Q5:List top 10 keywords related to math topics most searched for?"
      ],
      "metadata": {
        "id": "lVJVhOtF3eC4"
      }
    },
    {
      "cell_type": "code",
      "source": [
        "import csv\n",
        "from collections import Counter, defaultdict\n",
        "\n",
        "# Load the dataset\n",
        "file_path = '/content/MathE dataset (4).csv'\n",
        "data = []\n",
        "\n",
        "# Read CSV file\n",
        "with open(file_path, 'r', encoding='ISO-8859-1') as file:\n",
        "    reader = csv.DictReader(file, delimiter=';')\n",
        "    for row in reader:\n",
        "        data.append(row)\n",
        "\n"
      ],
      "metadata": {
        "id": "73R0BGT8EUiP"
      },
      "execution_count": 39,
      "outputs": []
    },
    {
      "cell_type": "code",
      "source": [
        "# Q1: Identify the Math topic which is most hard to learn\n",
        "\n",
        "hard_to_learn = defaultdict(int)\n",
        "for row in data:\n",
        "    if row['Question Level'] == 'Advanced':\n",
        "        hard_to_learn[row['Topic']] += 1\n",
        "hardest_topic = max(hard_to_learn, key=hard_to_learn.get)\n",
        "print(f\"Q1: Hardest Math topic to learn: {hardest_topic}\")\n"
      ],
      "metadata": {
        "colab": {
          "base_uri": "https://localhost:8080/"
        },
        "id": "SSw62O8VEsuX",
        "outputId": "bbeb5783-7e68-4075-9fb0-74d99bdcb679"
      },
      "execution_count": 38,
      "outputs": [
        {
          "output_type": "stream",
          "name": "stdout",
          "text": [
            "Q1: Hardest Math topic to learn: Linear Algebra\n"
          ]
        }
      ]
    },
    {
      "cell_type": "code",
      "source": [
        "\n",
        "# Q2: List the top 5 math sub-topics for the students\n",
        "subtopic_count = Counter(row['Subtopic'] for row in data)\n",
        "top_5_subtopics = subtopic_count.most_common(5)\n",
        "print(\"\\nQ2: Top 5 Math sub-topics:\")\n",
        "for subtopic, count in top_5_subtopics:\n",
        "    print(f\"{subtopic}: {count}\")\n",
        "\n"
      ],
      "metadata": {
        "colab": {
          "base_uri": "https://localhost:8080/"
        },
        "id": "ef6u_vEZ6niY",
        "outputId": "21ec9224-743a-4aba-88f9-1eed925cfa93"
      },
      "execution_count": 36,
      "outputs": [
        {
          "output_type": "stream",
          "name": "stdout",
          "text": [
            "\n",
            "Q2: Top 5 Math sub-topics:\n",
            "Vector Spaces: 2749\n",
            "Linear Transformations: 2127\n",
            "Complex Numbers: 592\n",
            "Algebraic expressions, Equations, and Inequalities: 496\n",
            "Linear Systems: 420\n"
          ]
        }
      ]
    },
    {
      "cell_type": "code",
      "source": [
        "#Q3: Identify the questions level most solved by the students\n",
        "\n",
        "question_level_count = Counter(row['Question Level'] for row in data)\n",
        "most_solved_level = question_level_count.most_common(1)[0][0]\n",
        "print(f\"\\nQ3: Most solved question level: {most_solved_level}\")\n",
        "\n"
      ],
      "metadata": {
        "colab": {
          "base_uri": "https://localhost:8080/"
        },
        "id": "WmhX2EXyFA_Z",
        "outputId": "c0867f2a-4fc1-4fb0-d040-84f55e40bd01"
      },
      "execution_count": 37,
      "outputs": [
        {
          "output_type": "stream",
          "name": "stdout",
          "text": [
            "\n",
            "Q3: Most solved question level: Basic\n"
          ]
        }
      ]
    },
    {
      "cell_type": "code",
      "source": [
        "# Q4: Name the country with the most solved math problems\n",
        "country_count = Counter(row['Student Country'] for row in data)\n",
        "most_solved_country = country_count.most_common(1)[0][0]\n",
        "print(f\"\\nQ4: Country with most solved problems: {most_solved_country}\")\n",
        "\n"
      ],
      "metadata": {
        "colab": {
          "base_uri": "https://localhost:8080/"
        },
        "id": "7c0ILU2ZFKEB",
        "outputId": "5323cdcb-5e2b-457c-894b-3f95e913ca21"
      },
      "execution_count": 34,
      "outputs": [
        {
          "output_type": "stream",
          "name": "stdout",
          "text": [
            "\n",
            "Q4: Country with most solved problems: Portugal\n"
          ]
        }
      ]
    },
    {
      "cell_type": "code",
      "source": [
        "# Q5: List top 10 keywords related to math topics most searched for\n",
        "all_keywords = []\n",
        "for row in data:\n",
        "    if row['Keywords']:\n",
        "        all_keywords.extend(keyword.strip() for keyword in row['Keywords'].split(','))\n",
        "keyword_count = Counter(all_keywords)\n",
        "top_10_keywords = keyword_count.most_common(10)\n",
        "print(\"\\nQ5: Top 10 Keywords:\")\n",
        "for keyword, count in top_10_keywords:\n",
        "    print(f\"{keyword}: {count}\")"
      ],
      "metadata": {
        "colab": {
          "base_uri": "https://localhost:8080/"
        },
        "id": "vPujdyzXFRC3",
        "outputId": "b209f016-f6cb-41ce-d76b-7cfc6472a380"
      },
      "execution_count": 35,
      "outputs": [
        {
          "output_type": "stream",
          "name": "stdout",
          "text": [
            "\n",
            "Q5: Top 10 Keywords:\n",
            "Span: 1844\n",
            "Subspace: 1465\n",
            "Linear combination: 1254\n",
            "Basis: 1112\n",
            "Linear application: 824\n",
            "Linearity: 733\n",
            "Range: 713\n",
            "Kernel: 713\n",
            "Dimension: 615\n",
            "Isomorphism: 587\n"
          ]
        }
      ]
    }
  ]
}